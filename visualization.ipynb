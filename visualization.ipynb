{
 "cells": [
  {
   "cell_type": "code",
<<<<<<< HEAD
   "execution_count": 1,
=======
<<<<<<<< HEAD:visualization.ipynb
   "execution_count": 1,
========
   "execution_count": null,
>>>>>>>> 9cba0b00eed283476ab9ffc4aad0603d74cdb2d6:Dijkstra Visualization.ipynb
>>>>>>> 9cba0b00eed283476ab9ffc4aad0603d74cdb2d6
   "metadata": {},
   "outputs": [
    {
     "name": "stdout",
     "output_type": "stream",
     "text": [
      "pygame 1.9.6\n",
      "Hello from the pygame community. https://www.pygame.org/contribute.html\n"
     ]
    }
   ],
   "source": [
    "import pygame\n",
    "import random\n",
    "import math\n",
    "from queue import PriorityQueue"
   ]
  },
  {
   "cell_type": "code",
<<<<<<< HEAD
   "execution_count": 2,
=======
<<<<<<<< HEAD:visualization.ipynb
   "execution_count": 2,
========
   "execution_count": null,
>>>>>>>> 9cba0b00eed283476ab9ffc4aad0603d74cdb2d6:Dijkstra Visualization.ipynb
>>>>>>> 9cba0b00eed283476ab9ffc4aad0603d74cdb2d6
   "metadata": {},
   "outputs": [],
   "source": [
    "# capitol variables -> global\n",
    "SIZE = 800\n",
<<<<<<< HEAD
    "blocked = []\n",
    "pygame.init()\n",
    "GAME = pygame.display.set_mode((SIZE,SIZE)) #initialize a screen for display\n",
    "pygame.display.set_caption(\"Shortest Path Visualization\") #naming the game.\n",
    "font  = pygame.font.Font('freesansbold.ttf',100)"
=======
    "GAME = pygame.display.set_mode((SIZE,SIZE)) #initialize a screen for display\n",
    "pygame.display.set_caption(\"A* Algorithm Visualization\") #naming the game."
>>>>>>> 9cba0b00eed283476ab9ffc4aad0603d74cdb2d6
   ]
  },
  {
   "cell_type": "code",
<<<<<<< HEAD
   "execution_count": 3,
=======
<<<<<<<< HEAD:visualization.ipynb
   "execution_count": 3,
========
   "execution_count": null,
>>>>>>>> 9cba0b00eed283476ab9ffc4aad0603d74cdb2d6:Dijkstra Visualization.ipynb
>>>>>>> 9cba0b00eed283476ab9ffc4aad0603d74cdb2d6
   "metadata": {},
   "outputs": [],
   "source": [
    "#colours\n",
    "RED = (255, 0, 0)\n",
    "GREEN = (0, 255, 0)\n",
    "BLUE = (0, 255, 0)\n",
    "YELLOW = (255, 255, 0)\n",
    "WHITE = (255, 255, 255)\n",
    "BLACK = (0, 0, 0)\n",
    "PURPLE = (128, 0, 128)\n",
    "ORANGE = (255, 165 ,0)\n",
    "GREY = (128, 128, 128)\n",
<<<<<<< HEAD
    "TURQUOISE = (64, 224, 208)\n"
=======
    "TURQUOISE = (64, 224, 208)"
>>>>>>> 9cba0b00eed283476ab9ffc4aad0603d74cdb2d6
   ]
  },
  {
   "cell_type": "code",
<<<<<<< HEAD
   "execution_count": 4,
=======
<<<<<<<< HEAD:visualization.ipynb
   "execution_count": 4,
========
   "execution_count": null,
>>>>>>>> 9cba0b00eed283476ab9ffc4aad0603d74cdb2d6:Dijkstra Visualization.ipynb
>>>>>>> 9cba0b00eed283476ab9ffc4aad0603d74cdb2d6
   "metadata": {},
   "outputs": [],
   "source": [
    "#self refers to this instance of the object.\n",
    "class Node:\n",
    "    def __init__(self,row,col,size, n): #row index, col index, size of a node\n",
    "        self.row = row\n",
    "        self.col = col\n",
    "        self.size = size\n",
    "        self.n = n # total number of rows/cols\n",
    "        self.x = row * size # x position\n",
    "        self.y = col * size # y position\n",
    "        self.color = WHITE # initially all nodes are white\n",
    "        self.neighbors = [] # empty list initally\n",
<<<<<<< HEAD
    "        \n",
=======
>>>>>>> 9cba0b00eed283476ab9ffc4aad0603d74cdb2d6
    "    def get_pos(self):\n",
    "        return(self.row,self.col) # return index of row and col\n",
    "    def is_visited(self):\n",
    "        return self.color == RED\n",
    "    def is_blocked(self):\n",
    "        return self.color == BLACK\n",
    "    def is_start(self):\n",
    "        return self.color == TURQUOISE\n",
    "    def is_end(self):\n",
    "        return self.color == ORANGE\n",
    "    \n",
    "    def reset(self):\n",
    "        self.color = WHITE \n",
    "    def path(self):\n",
    "        self.color = PURPLE\n",
    "    def block(self):\n",
    "        self.color = BLACK\n",
    "    def visit(self):\n",
    "        self.color = BLUE\n",
    "    def close(self):\n",
    "        self.color = RED\n",
    "    def start(self):\n",
    "        self.color = TURQUOISE\n",
    "    def end(self):\n",
    "        self.color = ORANGE\n",
    "        \n",
    "    def draw(self,screen): #drawing a rectangle at x,y postion in the screen.\n",
    "        pygame.draw.rect(screen,self.color, (self.x,self.y,self.size,self.size))\n",
    "    \n",
    "    def get_neighbors(self,grid,n):\n",
    "        if self.row > 0 and not grid[self.row-1][self.col].is_blocked():\n",
    "            self.neighbors.append(grid[self.row-1][self.col])\n",
    "        if self.row < n-1 and not grid[self.row+1][self.col].is_blocked():\n",
    "            self.neighbors.append(grid[self.row+1][self.col])\n",
    "        if self.col > 0 and not grid[self.row][self.col-1].is_blocked():\n",
    "            self.neighbors.append(grid[self.row][self.col-1])\n",
    "        if self.col < n-1 and not grid[self.row][self.col+1].is_blocked():\n",
    "            self.neighbors.append(grid[self.row][self.col+1])\n",
    "    def __lt__(self,other):\n",
    "        return False\n"
   ]
  },
  {
   "cell_type": "code",
<<<<<<< HEAD
   "execution_count": 5,
   "metadata": {},
   "outputs": [],
   "source": [
    "def show_score(x,y):\n",
    "    score = font.render(\"Score\", True,(0,0,0))\n",
    "    GAME.blit(score,(x,y))\n",
=======
<<<<<<<< HEAD:visualization.ipynb
   "execution_count": 5,
========
   "execution_count": null,
>>>>>>>> 9cba0b00eed283476ab9ffc4aad0603d74cdb2d6:Dijkstra Visualization.ipynb
   "metadata": {},
   "outputs": [],
   "source": [
>>>>>>> 9cba0b00eed283476ab9ffc4aad0603d74cdb2d6
    "def heuristic(nodeA, nodeB): # the distance variable in A* (manhattan distance)\n",
    "    x1,y1 = nodeA\n",
    "    x2,y2 = nodeB\n",
    "    return(abs(x1-x2) + abs(y1-y2)) #manhatan distance\n",
    "\n",
    "def path(parent,curr,draw): #retracing the path using parent\n",
    "    path_size = 0\n",
<<<<<<< HEAD
    "    \n",
=======
>>>>>>> 9cba0b00eed283476ab9ffc4aad0603d74cdb2d6
    "    while curr in parent:\n",
    "        path_size = path_size + 1\n",
    "        curr = parent[curr]\n",
    "        curr.path()\n",
    "        draw()\n",
<<<<<<< HEAD
    "    print(len(blocked))\n",
    "    \n",
=======
    "    print(path_size)\n",
>>>>>>> 9cba0b00eed283476ab9ffc4aad0603d74cdb2d6
    "def maze(grid):\n",
    "    density = SIZE//10\n",
    "    for i in range(density):\n",
    "        row = random.randrange(len(grid))\n",
    "        col = random.randrange(len(grid))\n",
    "        grid[row][col].block()\n",
<<<<<<< HEAD
    "def undo(grid,blocked):\n",
    "    for i in range(len(blocked)):\n",
    "        blocked[i].reset()\n",
    "    blocked.clear()\n",
=======
>>>>>>> 9cba0b00eed283476ab9ffc4aad0603d74cdb2d6
    "        \n",
    "def astar(draw , grid, start,end):\n",
    "    pq = PriorityQueue()\n",
    "    pq.put((0,start)) #insert (dist,start)\n",
    "    parent = {}\n",
    "    dist = {node : float(\"inf\") for row in grid for node in row} #initialize the distance of all nodes as infinity in a list\n",
    "    dist[start] = 0\n",
    "    f_score = {node : float(\"inf\") for row in grid for node in row} #initialize the distance of all nodes as infinity in a list\n",
    "    f_score[start] = dist[start] + heuristic(start.get_pos(),end.get_pos())\n",
    "    visits = 0\n",
    "    visiting_set = {start} #acts as a set\n",
    "    while not pq.empty():\n",
    "        for event in pygame.event.get(): #breaking out of the while loop\n",
    "            if event.type == pygame.QUIT:\n",
    "                pygame.quit()\n",
    "        visits = visits + 1\n",
    "        curr = pq.get()[1] #it returs an array of (dist,node)\n",
    "        visiting_set.remove(curr) #poping that element\n",
<<<<<<< HEAD
    "        blocked.append(curr)\n",
    "        if(curr==end): #construct the path using parent array\n",
    "            path(parent,end, draw)\n",
    "            for n in visiting_set:\n",
    "                if n is not start and n is not end:\n",
    "                    blocked.append(n)\n",
    "            end.path()\n",
=======
    "        if(curr==end): #construct the path using parent array\n",
    "            path(parent,end, draw)\n",
    "            end.path()\n",
    "            #print(visits)\n",
>>>>>>> 9cba0b00eed283476ab9ffc4aad0603d74cdb2d6
    "            return True\n",
    "        for neighbor in curr.neighbors:\n",
    "            if dist[neighbor] > dist[curr] + 1:\n",
    "                dist[neighbor] = dist[curr] + 1\n",
    "                parent[neighbor] = curr\n",
    "                f_score[neighbor] = dist[neighbor] + heuristic(neighbor.get_pos(),end.get_pos())\n",
    "                if neighbor not in visiting_set:\n",
    "                    pq.put((f_score[neighbor],neighbor))\n",
    "                    visiting_set.add(neighbor)\n",
    "                    neighbor.visit() #changing its color to blue\n",
<<<<<<< HEAD
    "                    if neighbor is not start and neighbor is not end:\n",
    "                        blocked.append(neighbor)\n",
=======
>>>>>>> 9cba0b00eed283476ab9ffc4aad0603d74cdb2d6
    "        \n",
    "        draw()\n",
    "        if(curr!=start):\n",
    "            curr.close()\n",
    "\n",
    "def dijkstra(draw , grid, start,end):\n",
    "    pq = PriorityQueue()\n",
    "    pq.put((0,start)) #insert (dist,start)\n",
    "    parent = {}\n",
    "    dist = {node : float(\"inf\") for row in grid for node in row} #initialize the distance of all nodes as infinity in a list\n",
    "    dist[start] = 0\n",
    "    visiting_set = {start} #acts as a set\n",
    "    while not pq.empty():\n",
    "        for event in pygame.event.get(): #breaking out of the while loop\n",
    "            if event.type == pygame.QUIT:\n",
    "                pygame.quit()\n",
    "        curr = pq.get()[1] #it returs an array of (dist,node)\n",
    "        visiting_set.remove(curr) #poping that element\n",
    "        if(curr==end): #construct the path using parent array\n",
    "            path(parent,end, draw)\n",
<<<<<<< HEAD
    "            for n in visiting_set:\n",
    "                if n is not start and n is not end:\n",
    "                    blocked.append(n)\n",
=======
>>>>>>> 9cba0b00eed283476ab9ffc4aad0603d74cdb2d6
    "            end.path()\n",
    "            return True\n",
    "        for neighbor in curr.neighbors:\n",
    "            if dist[neighbor] > dist[curr] + 1:\n",
    "                dist[neighbor] = dist[curr] + 1\n",
    "                parent[neighbor] = curr\n",
    "                if neighbor not in visiting_set:\n",
    "                    pq.put((dist[neighbor],neighbor))\n",
    "                    visiting_set.add(neighbor)\n",
    "                    neighbor.visit() #changing its color to blue\n",
<<<<<<< HEAD
    "                    if neighbor is not start and neighbor is not end:\n",
    "                        blocked.append(neighbor)\n",
=======
>>>>>>> 9cba0b00eed283476ab9ffc4aad0603d74cdb2d6
    "        \n",
    "        draw()\n",
    "        if(curr!=start):\n",
    "            curr.close()"
   ]
  },
  {
   "cell_type": "code",
<<<<<<< HEAD
   "execution_count": 6,
=======
<<<<<<<< HEAD:visualization.ipynb
   "execution_count": 6,
========
   "execution_count": null,
>>>>>>>> 9cba0b00eed283476ab9ffc4aad0603d74cdb2d6:Dijkstra Visualization.ipynb
>>>>>>> 9cba0b00eed283476ab9ffc4aad0603d74cdb2d6
   "metadata": {},
   "outputs": [],
   "source": [
    "\n",
    "\n",
    "#making a 2D grid of size (n x n) nodes.\n",
    "def make_grid(n,size): #n -> numbers of rows/cols\n",
    "    grid = []\n",
    "    node_size = size // n #integer division\n",
    "    #size is the width/height of the grid\n",
    "    for i in range(n): # range returns an iterable object of rows size\n",
    "        curr_node = []\n",
    "        for j in range(n):\n",
    "            new_node = Node(i,j,node_size,n)\n",
    "            curr_node.append(new_node)\n",
    "        grid.append(curr_node)\n",
<<<<<<< HEAD
    "    \n",
=======
>>>>>>> 9cba0b00eed283476ab9ffc4aad0603d74cdb2d6
    "    return grid\n",
    "\n",
    "def draw_grid(screen,n,size):\n",
    "    node_size = size // n\n",
    "    for i in range(n): #horizontal lines, (0,0) is top left.\n",
    "        pygame.draw.line(screen,GREY,(0,i * node_size),(size,i*node_size))\n",
    "    for i in range(n): #vertical lines\n",
    "        pygame.draw.line(screen,GREY,(i*node_size,0), (i*node_size, size))\n",
    "\n",
    "def draw(screen, grid,n,size):\n",
    "    screen.fill(WHITE) #continous loop\n",
    "    for row in grid:\n",
    "        for node in row:\n",
    "            node.draw(screen) #draw all the nodes with their colors\n",
    "    draw_grid(screen,n,size)\n",
<<<<<<< HEAD
    "    \n",
=======
>>>>>>> 9cba0b00eed283476ab9ffc4aad0603d74cdb2d6
    "    pygame.display.update() #updates the whole screen if no arguement\n",
    "    \n",
    "      "
   ]
  },
  {
   "cell_type": "code",
<<<<<<< HEAD
   "execution_count": 7,
=======
<<<<<<<< HEAD:visualization.ipynb
   "execution_count": 7,
========
   "execution_count": null,
>>>>>>>> 9cba0b00eed283476ab9ffc4aad0603d74cdb2d6:Dijkstra Visualization.ipynb
>>>>>>> 9cba0b00eed283476ab9ffc4aad0603d74cdb2d6
   "metadata": {},
   "outputs": [],
   "source": [
    "def click_pos(mouse_pos, n , size):\n",
    "    node_size = size // n\n",
    "    y,x = mouse_pos\n",
    "    row_index = y // node_size\n",
    "    col_index = x // node_size\n",
    "    return row_index,col_index"
   ]
  },
  {
   "cell_type": "code",
<<<<<<< HEAD
   "execution_count": 8,
   "metadata": {
    "scrolled": false
=======
<<<<<<<< HEAD:visualization.ipynb
   "execution_count": 8,
   "metadata": {
    "scrolled": true
>>>>>>> 9cba0b00eed283476ab9ffc4aad0603d74cdb2d6
   },
   "outputs": [
    {
     "name": "stdout",
     "output_type": "stream",
     "text": [
<<<<<<< HEAD
      "223\n"
     ]
    }
   ],
=======
      "53\n",
      "395\n"
     ]
    }
   ],
========
   "execution_count": null,
   "metadata": {},
   "outputs": [],
>>>>>>>> 9cba0b00eed283476ab9ffc4aad0603d74cdb2d6:Dijkstra Visualization.ipynb
>>>>>>> 9cba0b00eed283476ab9ffc4aad0603d74cdb2d6
   "source": [
    "def main(screen, size): #calling all functions\n",
    "    n = 50\n",
    "    grid = make_grid(n, size)\n",
    "    start = None \n",
    "    end = None #intially start node and end node are not defined\n",
    "    running = True # is game running\n",
    "    started = False # Algo started\n",
<<<<<<< HEAD
    "    while running:\n",
    "        #show_score(10,10)\n",
=======
    "    \n",
    "    while running:\n",
>>>>>>> 9cba0b00eed283476ab9ffc4aad0603d74cdb2d6
    "        draw(screen,grid,n,size)\n",
    "        for event in pygame.event.get():\n",
    "            if event.type == pygame.QUIT:\n",
    "                running = False\n",
    "            if started:\n",
    "                continue # ignore all events when algo is running    \n",
    "            if pygame.mouse.get_pressed()[0]: #left mouse button\n",
    "                pos = pygame.mouse.get_pos()\n",
    "                row_index, col_index = click_pos(pos,n,size)\n",
    "                clicked_node = grid[row_index][col_index]\n",
<<<<<<< HEAD
=======
    "                \n",
>>>>>>> 9cba0b00eed283476ab9ffc4aad0603d74cdb2d6
    "                if not start and not end:\n",
    "                    start = clicked_node\n",
    "                    clicked_node.start()\n",
    "                elif not end and clicked_node != start:\n",
    "                    end = clicked_node\n",
    "                    clicked_node.end()\n",
    "                elif clicked_node != start and clicked_node != end:\n",
    "                    clicked_node.block()\n",
<<<<<<< HEAD
    "                    \n",
=======
>>>>>>> 9cba0b00eed283476ab9ffc4aad0603d74cdb2d6
    "                \n",
    "            elif pygame.mouse.get_pressed()[2]: #right mouse button\n",
    "                pos = pygame.mouse.get_pos()\n",
    "                row_index, col_index = click_pos(pos,n,size)\n",
    "                clicked_node = grid[row_index][col_index]\n",
    "                clicked_node.reset()\n",
    "                if clicked_node == start:\n",
    "                    start = None\n",
    "                if clicked_node == end:\n",
    "                    end = None\n",
<<<<<<< HEAD
    "                    \n",
=======
>>>>>>> 9cba0b00eed283476ab9ffc4aad0603d74cdb2d6
    "            elif event.type == pygame.KEYDOWN:\n",
    "                if event.key == pygame.K_a and not started and start and end:\n",
    "                    for row in grid:\n",
    "                        for node in row:\n",
    "                            node.get_neighbors(grid,n)\n",
<<<<<<< HEAD
=======
    "                    #temp_grid = grid\n",
>>>>>>> 9cba0b00eed283476ab9ffc4aad0603d74cdb2d6
    "                    astar(lambda: draw(screen,grid,n,size),grid,start,end)\n",
    "                    #passing an anonymous function to algo so that we can call it later.\n",
    "                if event.key == pygame.K_d and not started and start and end:\n",
    "                    for row in grid:\n",
    "                        for node in row:\n",
    "                            node.get_neighbors(grid,n)\n",
<<<<<<< HEAD
=======
    "                    #temp_grid = grid\n",
>>>>>>> 9cba0b00eed283476ab9ffc4aad0603d74cdb2d6
    "                    dijkstra(lambda: draw(screen,grid,n,size),grid,start,end)\n",
    "                if event.key == pygame.K_r and not started:\n",
    "                    maze(grid)\n",
    "                if event.key == pygame.K_c:\n",
    "                    start = None\n",
    "                    end = None\n",
    "                    grid = make_grid(n,size)\n",
<<<<<<< HEAD
    "                if event.key == pygame.K_p:\n",
    "                    undo(grid,blocked)\n",
    "                    start.start()\n",
    "                    end.end()\n",
    "        \n",
=======
    "                if event.key == pygame.K_z:\n",
    "                    grid = temp_grid\n",
>>>>>>> 9cba0b00eed283476ab9ffc4aad0603d74cdb2d6
    "    pygame.quit()\n",
    "    \n",
    "main(GAME,SIZE)"
   ]
<<<<<<< HEAD
=======
  },
  {
   "cell_type": "code",
   "execution_count": null,
   "metadata": {},
   "outputs": [],
   "source": []
  },
  {
   "cell_type": "code",
   "execution_count": null,
   "metadata": {},
   "outputs": [],
   "source": []
  },
  {
   "cell_type": "code",
   "execution_count": null,
   "metadata": {},
   "outputs": [],
<<<<<<<< HEAD:visualization.ipynb
   "source": [
    "8"
   ]
========
   "source": []
  },
  {
   "cell_type": "code",
   "execution_count": null,
   "metadata": {},
   "outputs": [],
   "source": []
  },
  {
   "cell_type": "code",
   "execution_count": null,
   "metadata": {},
   "outputs": [],
   "source": []
>>>>>>>> 9cba0b00eed283476ab9ffc4aad0603d74cdb2d6:Dijkstra Visualization.ipynb
>>>>>>> 9cba0b00eed283476ab9ffc4aad0603d74cdb2d6
  }
 ],
 "metadata": {
  "kernelspec": {
   "display_name": "Python 3",
   "language": "python",
   "name": "python3"
  },
  "language_info": {
   "codemirror_mode": {
    "name": "ipython",
    "version": 3
   },
   "file_extension": ".py",
   "mimetype": "text/x-python",
   "name": "python",
   "nbconvert_exporter": "python",
   "pygments_lexer": "ipython3",
   "version": "3.7.6"
  }
 },
 "nbformat": 4,
 "nbformat_minor": 4
}
